{
 "cells": [
  {
   "cell_type": "code",
   "execution_count": 2,
   "metadata": {},
   "outputs": [
    {
     "name": "stdout",
     "output_type": "stream",
     "text": [
      "Enter the radius of the circle: 34\n",
      "Area= 3631.6811075498013\n"
     ]
    }
   ],
   "source": [
    "#program to find area of circle in Python using math function\n",
    "import math\n",
    "r = float(input(\"Enter the radius of the circle: \"))\n",
    "area = math.pi* r * r\n",
    "print(\"Area=\" ,area)\n"
   ]
  },
  {
   "cell_type": "code",
   "execution_count": 12,
   "metadata": {},
   "outputs": [
    {
     "name": "stdout",
     "output_type": "stream",
     "text": [
      "Enter the length of each side of Polygon (in meters): 7\n",
      "Enter the number of sides: 8\n",
      "The area of Polygon is 236.59 \n"
     ]
    }
   ],
   "source": [
    "#Python's program to calculate the Area of Polygon.\n",
    " \n",
    "from math import tan,pi\n",
    " \n",
    "#Read the input from user\n",
    "length  = float(input(\"Enter the length of each side of Polygon (in meters): \"))\n",
    "number  = int(input(\"Enter the number of sides: \"))\n",
    " \n",
    "#Calculate the area of Polygon\n",
    "area = (number * length ** 2)/(4 * tan(pi/number))\n",
    " \n",
    "#Display the result\n",
    "print(\"The area of Polygon is %.2f \" % area)"
   ]
  },
  {
   "cell_type": "code",
   "execution_count": 11,
   "metadata": {},
   "outputs": [
    {
     "name": "stdout",
     "output_type": "stream",
     "text": [
      "Radius of Circle: 23\n",
      "angle measure: 34\n",
      "Segment Area:  157.0206349206349\n"
     ]
    }
   ],
   "source": [
    "#Area of segment of the circle \n",
    "\n",
    "pi=22/7\n",
    "radius = float(input('Radius of Circle: '))\n",
    "angle = float(input('angle measure: '))\n",
    "if angle >= 360:\n",
    "        print(\"Angle is not possible\")\n",
    "else:\n",
    "    s_area = (pi*radius**2) * (angle/360)\n",
    "    print(\"Segment Area: \", s_area)"
   ]
  },
  {
   "cell_type": "code",
   "execution_count": 16,
   "metadata": {},
   "outputs": [
    {
     "name": "stdout",
     "output_type": "stream",
     "text": [
      "[3, 2, 'hello', 1, 'hai', 100, 40, 30]\n"
     ]
    }
   ],
   "source": [
    "#Program to shuffle the list\n",
    "\n",
    "from random import shuffle\n",
    "list = [100,1,2,3,30,40,\"hai\",\"hello\"]\n",
    "shuffle(list)\n",
    "print(list)"
   ]
  },
  {
   "cell_type": "code",
   "execution_count": 26,
   "metadata": {},
   "outputs": [
    {
     "name": "stdout",
     "output_type": "stream",
     "text": [
      "the generated num dont have diff=5\n"
     ]
    }
   ],
   "source": [
    "#Print Random numbers b/t range 1,10000 and difference is 50\n",
    "\n",
    "import random\n",
    "randomlist = []\n",
    "for i in range(0,7):\n",
    " n = random.randint(1,10000)\n",
    " if(i-n==50):\n",
    "    \n",
    "    randomlist.append(n)\n",
    "    print(randomlist)\n",
    "else:\n",
    "     print(\"the generated num dont have diff=5\")"
   ]
  },
  {
   "cell_type": "code",
   "execution_count": 45,
   "metadata": {},
   "outputs": [
    {
     "name": "stdout",
     "output_type": "stream",
     "text": [
      "-0.3048106211022167\n",
      "-1.0\n",
      "-1.995200412208242\n",
      "1.0471967436282854\n",
      "390625.0\n",
      "20.0\n",
      "10.0\n",
      "3.010299956639812\n",
      "24\n",
      "23\n"
     ]
    }
   ],
   "source": [
    "#Program using mat module\n",
    "\n",
    "print(math.sin(60))\n",
    "print(math.cos(pi))\n",
    "print(math.tan(90))\n",
    "print(math.asin(0.866025))\n",
    "print(math.pow(5,8))\n",
    "print(math.sqrt(400))\n",
    "print(math.log2(1024))\n",
    "print(math.log10(1024))\n",
    "print(math.ceil(23.56))\n",
    "print(math.floor(23.56))\n"
   ]
  },
  {
   "cell_type": "code",
   "execution_count": null,
   "metadata": {},
   "outputs": [],
   "source": []
  },
  {
   "cell_type": "code",
   "execution_count": null,
   "metadata": {},
   "outputs": [],
   "source": []
  }
 ],
 "metadata": {
  "kernelspec": {
   "display_name": "Python 3",
   "language": "python",
   "name": "python3"
  },
  "language_info": {
   "codemirror_mode": {
    "name": "ipython",
    "version": 3
   },
   "file_extension": ".py",
   "mimetype": "text/x-python",
   "name": "python",
   "nbconvert_exporter": "python",
   "pygments_lexer": "ipython3",
   "version": "3.8.3"
  }
 },
 "nbformat": 4,
 "nbformat_minor": 4
}
